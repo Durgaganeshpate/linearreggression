{
  "nbformat": 4,
  "nbformat_minor": 0,
  "metadata": {
    "colab": {
      "name": "task4 stock market.ipynb",
      "provenance": [],
      "collapsed_sections": [],
      "authorship_tag": "ABX9TyNyoHCrKJet7QK4hpmv2+e2",
      "include_colab_link": true
    },
    "kernelspec": {
      "name": "python3",
      "display_name": "Python 3"
    },
    "language_info": {
      "name": "python"
    }
  },
  "cells": [
    {
      "cell_type": "markdown",
      "metadata": {
        "id": "view-in-github",
        "colab_type": "text"
      },
      "source": [
        "<a href=\"https://colab.research.google.com/github/Durgaganeshpate/sparks-internship/blob/main/task4_stock_market.ipynb\" target=\"_parent\"><img src=\"https://colab.research.google.com/assets/colab-badge.svg\" alt=\"Open In Colab\"/></a>"
      ]
    },
    {
      "cell_type": "markdown",
      "metadata": {
        "id": "MYpPYrHFNumV"
      },
      "source": [
        "#Task 4 : Stock Market Prediction using Numerical and Textual Analysis¶\n",
        "GRIP @ The Sparks Foundation\n",
        "In this task I tried to create a hybrid model for stock price/performance prediction using numerical analysis of historical stock prices, and sentimental analysis of news headlines.  \n",
        "\n",
        "Technical Stack : Sikit Learn, Numpy Array, Pandas, Matplotlib, Keras, NLTK, Textblob, Xgboost"
      ]
    },
    {
      "cell_type": "code",
      "metadata": {
        "colab": {
          "base_uri": "https://localhost:8080/"
        },
        "id": "OCYueguENY9L",
        "outputId": "cddf71a7-79fe-435a-e009-e6438c8f3b73"
      },
      "source": [
        "#importing required libraries\n",
        "from sklearn.preprocessing import MinMaxScaler\n",
        "from sklearn.metrics import mean_squared_error\n",
        "from sklearn import metrics \n",
        "from keras.models import Sequential\n",
        "from keras.layers import Dense, LSTM\n",
        "import pandas as pd\n",
        "import matplotlib.pyplot as plt\n",
        "import numpy as np\n",
        "import math\n",
        "import re\n",
        "import nltk\n",
        "import re\n",
        "from nltk.corpus import stopwords\n",
        "nltk.download('stopwords')\n",
        "nltk.download('vader_lexicon')\n",
        "from textblob import TextBlob\n",
        "from nltk.sentiment.vader import SentimentIntensityAnalyzer\n",
        "from sklearn.ensemble import RandomForestRegressor, AdaBoostRegressor\n",
        "import xgboost"
      ],
      "execution_count": null,
      "outputs": [
        {
          "output_type": "stream",
          "name": "stdout",
          "text": [
            "[nltk_data] Downloading package stopwords to /root/nltk_data...\n",
            "[nltk_data]   Unzipping corpora/stopwords.zip.\n",
            "[nltk_data] Downloading package vader_lexicon to /root/nltk_data...\n"
          ]
        },
        {
          "output_type": "stream",
          "name": "stderr",
          "text": [
            "/usr/local/lib/python3.7/dist-packages/nltk/twitter/__init__.py:20: UserWarning: The twython library has not been installed. Some functionality from the twitter package will not be available.\n",
            "  warnings.warn(\"The twython library has not been installed. \"\n"
          ]
        }
      ]
    },
    {
      "cell_type": "markdown",
      "metadata": {
        "id": "V5f16qr1O7im"
      },
      "source": [
        "Step 1 : Importing the Numerical dataset and performing Exploratory Analysis"
      ]
    },
    {
      "cell_type": "code",
      "metadata": {
        "colab": {
          "base_uri": "https://localhost:8080/",
          "height": 203
        },
        "id": "aPQa_9eyN2k3",
        "outputId": "67cff37c-c655-44d2-d253-d138ef808a72"
      },
      "source": [
        "# Dataframe for exploratory analysis\n",
        "df=pd.read_csv('task4.csv')\n",
        "df.head()"
      ],
      "execution_count": null,
      "outputs": [
        {
          "output_type": "execute_result",
          "data": {
            "text/html": [
              "<div>\n",
              "<style scoped>\n",
              "    .dataframe tbody tr th:only-of-type {\n",
              "        vertical-align: middle;\n",
              "    }\n",
              "\n",
              "    .dataframe tbody tr th {\n",
              "        vertical-align: top;\n",
              "    }\n",
              "\n",
              "    .dataframe thead th {\n",
              "        text-align: right;\n",
              "    }\n",
              "</style>\n",
              "<table border=\"1\" class=\"dataframe\">\n",
              "  <thead>\n",
              "    <tr style=\"text-align: right;\">\n",
              "      <th></th>\n",
              "      <th>Date</th>\n",
              "      <th>Open</th>\n",
              "      <th>High</th>\n",
              "      <th>Low</th>\n",
              "      <th>Close</th>\n",
              "      <th>Adj Close</th>\n",
              "      <th>Volume</th>\n",
              "    </tr>\n",
              "  </thead>\n",
              "  <tbody>\n",
              "    <tr>\n",
              "      <th>0</th>\n",
              "      <td>2019-10-16</td>\n",
              "      <td>38637.050781</td>\n",
              "      <td>38666.378906</td>\n",
              "      <td>38416.671875</td>\n",
              "      <td>38598.988281</td>\n",
              "      <td>38598.988281</td>\n",
              "      <td>27500.0</td>\n",
              "    </tr>\n",
              "    <tr>\n",
              "      <th>1</th>\n",
              "      <td>2019-10-17</td>\n",
              "      <td>38647.441406</td>\n",
              "      <td>39104.691406</td>\n",
              "      <td>38557.429688</td>\n",
              "      <td>39052.058594</td>\n",
              "      <td>39052.058594</td>\n",
              "      <td>47100.0</td>\n",
              "    </tr>\n",
              "    <tr>\n",
              "      <th>2</th>\n",
              "      <td>2019-10-18</td>\n",
              "      <td>39087.828125</td>\n",
              "      <td>39361.058594</td>\n",
              "      <td>38963.601563</td>\n",
              "      <td>39298.378906</td>\n",
              "      <td>39298.378906</td>\n",
              "      <td>42400.0</td>\n",
              "    </tr>\n",
              "    <tr>\n",
              "      <th>3</th>\n",
              "      <td>2019-10-22</td>\n",
              "      <td>39233.398438</td>\n",
              "      <td>39426.468750</td>\n",
              "      <td>38924.851563</td>\n",
              "      <td>38963.839844</td>\n",
              "      <td>38963.839844</td>\n",
              "      <td>54500.0</td>\n",
              "    </tr>\n",
              "    <tr>\n",
              "      <th>4</th>\n",
              "      <td>2019-10-23</td>\n",
              "      <td>39063.839844</td>\n",
              "      <td>39196.671875</td>\n",
              "      <td>38866.078125</td>\n",
              "      <td>39058.828125</td>\n",
              "      <td>39058.828125</td>\n",
              "      <td>41000.0</td>\n",
              "    </tr>\n",
              "  </tbody>\n",
              "</table>\n",
              "</div>"
            ],
            "text/plain": [
              "         Date          Open          High  ...         Close     Adj Close   Volume\n",
              "0  2019-10-16  38637.050781  38666.378906  ...  38598.988281  38598.988281  27500.0\n",
              "1  2019-10-17  38647.441406  39104.691406  ...  39052.058594  39052.058594  47100.0\n",
              "2  2019-10-18  39087.828125  39361.058594  ...  39298.378906  39298.378906  42400.0\n",
              "3  2019-10-22  39233.398438  39426.468750  ...  38963.839844  38963.839844  54500.0\n",
              "4  2019-10-23  39063.839844  39196.671875  ...  39058.828125  39058.828125  41000.0\n",
              "\n",
              "[5 rows x 7 columns]"
            ]
          },
          "metadata": {},
          "execution_count": 5
        }
      ]
    },
    {
      "cell_type": "code",
      "metadata": {
        "colab": {
          "base_uri": "https://localhost:8080/",
          "height": 500
        },
        "id": "LlYPF8O-P2pF",
        "outputId": "448690ee-6b63-4b80-cd05-8548025d4fcd"
      },
      "source": [
        "\n",
        "# Extract date frame and plot closing stock price w.r.t time\n",
        "df['Date'] = pd.to_datetime(df.Date,format='%Y-%m-%d')\n",
        "df.index = df['Date']\n",
        "df.dropna(inplace=True)\n",
        "#plot\n",
        "plt.figure(figsize=(16,8))\n",
        "plt.plot(df['Close'], label='Close Price history')"
      ],
      "execution_count": null,
      "outputs": [
        {
          "output_type": "execute_result",
          "data": {
            "text/plain": [
              "[<matplotlib.lines.Line2D at 0x7f2c1de5c6d0>]"
            ]
          },
          "metadata": {},
          "execution_count": 6
        },
        {
          "output_type": "display_data",
          "data": {
            "image/png": "[encoded data removed]",
            "text/plain": [
              "<Figure size 1152x576 with 1 Axes>"
            ]
          },
          "metadata": {
            "needs_background": "light"
          }
        }
      ]
    },
    {
      "cell_type": "code",
      "metadata": {
        "id": "kp0bcuY2P3Up"
      },
      "source": [
        "# fix random seed for reproducibility\n",
        "np.random.seed(7)"
      ],
      "execution_count": null,
      "outputs": []
    },
    {
      "cell_type": "markdown",
      "metadata": {
        "id": "lLUIJrZyP8ni"
      },
      "source": [
        "\n",
        "Step 2 : Creating a dataframe for storing the Closing stock data per day"
      ]
    },
    {
      "cell_type": "code",
      "metadata": {
        "id": "K5xttX0CP5_h"
      },
      "source": [
        "# convert an array of values into a dataset matrix\n",
        "def create_dataset(df2, look_back=1):\n",
        "\tdataX, dataY = [], []\n",
        "\tfor i in range(len(df2)-look_back-1):\n",
        "\t\ta = df2[i:(i+look_back), 0]\n",
        "\t\tdataX.append(a)\n",
        "\t\tdataY.append(df2[i + look_back, 0])\n",
        "\treturn np.array(dataX), np.array(dataY)"
      ],
      "execution_count": null,
      "outputs": []
    },
    {
      "cell_type": "code",
      "metadata": {
        "id": "Ztn65bJnP_6i"
      },
      "source": [
        "df2 = pd.read_csv('task4.csv', usecols=[5], engine='python')\n",
        "df2.dropna(inplace=True)\n",
        "df2 = df2.values\n",
        "df2 = df2.astype('float32')"
      ],
      "execution_count": null,
      "outputs": []
    },
    {
      "cell_type": "markdown",
      "metadata": {
        "id": "ky8x3dMzQN2W"
      },
      "source": [
        "Step 3 : Data Normalization and Division into Training and Test sets"
      ]
    },
    {
      "cell_type": "code",
      "metadata": {
        "id": "tL1tl2NWQDZr"
      },
      "source": [
        "# normalize the dataset\n",
        "scaler = MinMaxScaler(feature_range=(0, 1))\n",
        "df2 = scaler.fit_transform(df2)\n",
        "\n",
        "# split into train and test sets\n",
        "train_size = int(len(df2) * 0.67)\n",
        "test_size = len(df2) - train_size\n",
        "train, test = df2[0:train_size,:], df2[train_size:len(df2),:]"
      ],
      "execution_count": null,
      "outputs": []
    },
    {
      "cell_type": "code",
      "metadata": {
        "id": "wf_oyhNTQRdW"
      },
      "source": [
        "# reshape into X=t and Y=t+1\n",
        "look_back = 3\n",
        "trainX, trainY = create_dataset(train, look_back)\n",
        "testX, testY = create_dataset(test, look_back)\n",
        "# reshape input to be [samples, time steps, features]\n",
        "trainX = np.reshape(trainX, (trainX.shape[0], trainX.shape[1], 1))\n",
        "testX = np.reshape(testX, (testX.shape[0], testX.shape[1], 1))"
      ],
      "execution_count": null,
      "outputs": []
    },
    {
      "cell_type": "markdown",
      "metadata": {
        "id": "r2EUr30qQWWk"
      },
      "source": [
        "Step 4 : Creating a LSTM for Numerical Analysis"
      ]
    },
    {
      "cell_type": "code",
      "metadata": {
        "colab": {
          "base_uri": "https://localhost:8080/"
        },
        "id": "-iJcP8LsQT2j",
        "outputId": "b81e2fc5-b08e-4e62-c5fc-446123ccbb53"
      },
      "source": [
        "\n",
        "# create and fit the LSTM network\n",
        "model = Sequential()\n",
        "model.add(LSTM(7, input_shape=(look_back, 1)))\n",
        "model.add(Dense(1))\n",
        "model.compile(loss='mean_squared_error', optimizer='adam')\n",
        "model.fit(trainX, trainY, epochs=100, batch_size=1, verbose=2)"
      ],
      "execution_count": null,
      "outputs": [
        {
          "output_type": "stream",
          "name": "stdout",
          "text": [
            "Epoch 1/100\n",
            "162/162 - 2s - loss: 0.3187\n",
            "Epoch 2/100\n",
            "162/162 - 0s - loss: 0.0434\n",
            "Epoch 3/100\n",
            "162/162 - 0s - loss: 0.0247\n",
            "Epoch 4/100\n",
            "162/162 - 0s - loss: 0.0152\n",
            "Epoch 5/100\n",
            "162/162 - 0s - loss: 0.0086\n",
            "Epoch 6/100\n",
            "162/162 - 0s - loss: 0.0049\n",
            "Epoch 7/100\n",
            "162/162 - 0s - loss: 0.0035\n",
            "Epoch 8/100\n",
            "162/162 - 0s - loss: 0.0030\n",
            "Epoch 9/100\n",
            "162/162 - 0s - loss: 0.0030\n",
            "Epoch 10/100\n",
            "162/162 - 0s - loss: 0.0030\n",
            "Epoch 11/100\n",
            "162/162 - 0s - loss: 0.0030\n",
            "Epoch 12/100\n",
            "162/162 - 0s - loss: 0.0030\n",
            "Epoch 13/100\n",
            "162/162 - 0s - loss: 0.0029\n",
            "Epoch 14/100\n",
            "162/162 - 0s - loss: 0.0030\n",
            "Epoch 15/100\n",
            "162/162 - 0s - loss: 0.0030\n",
            "Epoch 16/100\n",
            "162/162 - 0s - loss: 0.0029\n",
            "Epoch 17/100\n",
            "162/162 - 0s - loss: 0.0030\n",
            "Epoch 18/100\n",
            "162/162 - 0s - loss: 0.0029\n",
            "Epoch 19/100\n",
            "162/162 - 0s - loss: 0.0029\n",
            "Epoch 20/100\n",
            "162/162 - 0s - loss: 0.0028\n",
            "Epoch 21/100\n",
            "162/162 - 0s - loss: 0.0030\n",
            "Epoch 22/100\n",
            "162/162 - 0s - loss: 0.0029\n",
            "Epoch 23/100\n",
            "162/162 - 0s - loss: 0.0030\n",
            "Epoch 24/100\n",
            "162/162 - 0s - loss: 0.0029\n",
            "Epoch 25/100\n",
            "162/162 - 0s - loss: 0.0029\n",
            "Epoch 26/100\n",
            "162/162 - 0s - loss: 0.0029\n",
            "Epoch 27/100\n",
            "162/162 - 0s - loss: 0.0028\n",
            "Epoch 28/100\n",
            "162/162 - 0s - loss: 0.0028\n",
            "Epoch 29/100\n",
            "162/162 - 0s - loss: 0.0028\n",
            "Epoch 30/100\n",
            "162/162 - 0s - loss: 0.0028\n",
            "Epoch 31/100\n",
            "162/162 - 0s - loss: 0.0028\n",
            "Epoch 32/100\n",
            "162/162 - 0s - loss: 0.0028\n",
            "Epoch 33/100\n",
            "162/162 - 0s - loss: 0.0028\n",
            "Epoch 34/100\n",
            "162/162 - 0s - loss: 0.0027\n",
            "Epoch 35/100\n",
            "162/162 - 0s - loss: 0.0028\n",
            "Epoch 36/100\n",
            "162/162 - 0s - loss: 0.0028\n",
            "Epoch 37/100\n",
            "162/162 - 0s - loss: 0.0028\n",
            "Epoch 38/100\n",
            "162/162 - 0s - loss: 0.0027\n",
            "Epoch 39/100\n",
            "162/162 - 0s - loss: 0.0028\n",
            "Epoch 40/100\n",
            "162/162 - 0s - loss: 0.0027\n",
            "Epoch 41/100\n",
            "162/162 - 0s - loss: 0.0027\n",
            "Epoch 42/100\n",
            "162/162 - 0s - loss: 0.0027\n",
            "Epoch 43/100\n",
            "162/162 - 0s - loss: 0.0027\n",
            "Epoch 44/100\n",
            "162/162 - 0s - loss: 0.0026\n",
            "Epoch 45/100\n",
            "162/162 - 0s - loss: 0.0026\n",
            "Epoch 46/100\n",
            "162/162 - 0s - loss: 0.0027\n",
            "Epoch 47/100\n",
            "162/162 - 0s - loss: 0.0026\n",
            "Epoch 48/100\n",
            "162/162 - 0s - loss: 0.0027\n",
            "Epoch 49/100\n",
            "162/162 - 0s - loss: 0.0026\n",
            "Epoch 50/100\n",
            "162/162 - 0s - loss: 0.0027\n",
            "Epoch 51/100\n",
            "162/162 - 0s - loss: 0.0026\n",
            "Epoch 52/100\n",
            "162/162 - 0s - loss: 0.0025\n",
            "Epoch 53/100\n",
            "162/162 - 0s - loss: 0.0026\n",
            "Epoch 54/100\n",
            "162/162 - 0s - loss: 0.0026\n",
            "Epoch 55/100\n",
            "162/162 - 0s - loss: 0.0026\n",
            "Epoch 56/100\n",
            "162/162 - 0s - loss: 0.0026\n",
            "Epoch 57/100\n",
            "162/162 - 0s - loss: 0.0026\n",
            "Epoch 58/100\n",
            "162/162 - 0s - loss: 0.0027\n",
            "Epoch 59/100\n",
            "162/162 - 0s - loss: 0.0026\n",
            "Epoch 60/100\n",
            "162/162 - 0s - loss: 0.0025\n",
            "Epoch 61/100\n",
            "162/162 - 0s - loss: 0.0025\n",
            "Epoch 62/100\n",
            "162/162 - 0s - loss: 0.0026\n",
            "Epoch 63/100\n",
            "162/162 - 0s - loss: 0.0025\n",
            "Epoch 64/100\n",
            "162/162 - 0s - loss: 0.0026\n",
            "Epoch 65/100\n",
            "162/162 - 0s - loss: 0.0026\n",
            "Epoch 66/100\n",
            "162/162 - 0s - loss: 0.0025\n",
            "Epoch 67/100\n",
            "162/162 - 0s - loss: 0.0025\n",
            "Epoch 68/100\n",
            "162/162 - 0s - loss: 0.0025\n",
            "Epoch 69/100\n",
            "162/162 - 0s - loss: 0.0024\n",
            "Epoch 70/100\n",
            "162/162 - 0s - loss: 0.0025\n",
            "Epoch 71/100\n",
            "162/162 - 0s - loss: 0.0024\n",
            "Epoch 72/100\n",
            "162/162 - 0s - loss: 0.0024\n",
            "Epoch 73/100\n",
            "162/162 - 0s - loss: 0.0025\n",
            "Epoch 74/100\n",
            "162/162 - 0s - loss: 0.0024\n",
            "Epoch 75/100\n",
            "162/162 - 0s - loss: 0.0025\n",
            "Epoch 76/100\n",
            "162/162 - 0s - loss: 0.0024\n",
            "Epoch 77/100\n",
            "162/162 - 0s - loss: 0.0024\n",
            "Epoch 78/100\n",
            "162/162 - 0s - loss: 0.0024\n",
            "Epoch 79/100\n",
            "162/162 - 0s - loss: 0.0025\n",
            "Epoch 80/100\n",
            "162/162 - 0s - loss: 0.0024\n",
            "Epoch 81/100\n",
            "162/162 - 0s - loss: 0.0025\n",
            "Epoch 82/100\n",
            "162/162 - 0s - loss: 0.0023\n",
            "Epoch 83/100\n",
            "162/162 - 0s - loss: 0.0023\n",
            "Epoch 84/100\n",
            "162/162 - 0s - loss: 0.0024\n",
            "Epoch 85/100\n",
            "162/162 - 0s - loss: 0.0024\n",
            "Epoch 86/100\n",
            "162/162 - 0s - loss: 0.0023\n",
            "Epoch 87/100\n",
            "162/162 - 0s - loss: 0.0024\n",
            "Epoch 88/100\n",
            "162/162 - 0s - loss: 0.0023\n",
            "Epoch 89/100\n",
            "162/162 - 0s - loss: 0.0023\n",
            "Epoch 90/100\n",
            "162/162 - 0s - loss: 0.0023\n",
            "Epoch 91/100\n",
            "162/162 - 0s - loss: 0.0023\n",
            "Epoch 92/100\n",
            "162/162 - 0s - loss: 0.0024\n",
            "Epoch 93/100\n",
            "162/162 - 0s - loss: 0.0024\n",
            "Epoch 94/100\n",
            "162/162 - 0s - loss: 0.0023\n",
            "Epoch 95/100\n",
            "162/162 - 0s - loss: 0.0023\n",
            "Epoch 96/100\n",
            "162/162 - 0s - loss: 0.0023\n",
            "Epoch 97/100\n",
            "162/162 - 0s - loss: 0.0022\n",
            "Epoch 98/100\n",
            "162/162 - 0s - loss: 0.0022\n",
            "Epoch 99/100\n",
            "162/162 - 0s - loss: 0.0023\n",
            "Epoch 100/100\n",
            "162/162 - 0s - loss: 0.0022\n"
          ]
        },
        {
          "output_type": "execute_result",
          "data": {
            "text/plain": [
              "<keras.callbacks.History at 0x7f2c1959bf50>"
            ]
          },
          "metadata": {},
          "execution_count": 13
        }
      ]
    },
    {
      "cell_type": "code",
      "metadata": {
        "id": "Ll-n3ZONQZjr"
      },
      "source": [
        "# make predictions\n",
        "trainPredict = model.predict(trainX)\n",
        "testPredict = model.predict(testX)\n",
        "# invert predictions\n",
        "trainPredict = scaler.inverse_transform(trainPredict)\n",
        "trainY = scaler.inverse_transform([trainY])\n",
        "testPredict = scaler.inverse_transform(testPredict)\n",
        "testY = scaler.inverse_transform([testY])"
      ],
      "execution_count": null,
      "outputs": []
    },
    {
      "cell_type": "markdown",
      "metadata": {
        "id": "qxK_HkqQQgFy"
      },
      "source": [
        "Step 5 : Making Predictions"
      ]
    },
    {
      "cell_type": "code",
      "metadata": {
        "colab": {
          "base_uri": "https://localhost:8080/",
          "height": 265
        },
        "id": "SYEgNHtpQd1P",
        "outputId": "343eab00-a838-4cf5-91e7-f69a62d764f5"
      },
      "source": [
        "# shift train predictions for plotting\n",
        "trainPredictPlot = np.empty_like(df2)\n",
        "trainPredictPlot[:, :] = np.nan\n",
        "trainPredictPlot[look_back:len(trainPredict)+look_back, :] = trainPredict\n",
        "# shift test predictions for plotting\n",
        "testPredictPlot = np.empty_like(df2)\n",
        "testPredictPlot[:, :] = np.nan\n",
        "testPredictPlot[len(trainPredict)+(look_back*2)+1:len(df2)-1, :] = testPredict\n",
        "# plot baseline and predictions\n",
        "plt.plot(scaler.inverse_transform(df2))\n",
        "plt.plot(trainPredictPlot,color='red')\n",
        "plt.plot(testPredictPlot,color='green')\n",
        "plt.show()"
      ],
      "execution_count": null,
      "outputs": [
        {
          "output_type": "display_data",
          "data": {
            "image/png": "[encoded data removed]",
            "text/plain": [
              "<Figure size 432x288 with 1 Axes>"
            ]
          },
          "metadata": {
            "needs_background": "light"
          }
        }
      ]
    },
    {
      "cell_type": "code",
      "metadata": {
        "colab": {
          "base_uri": "https://localhost:8080/"
        },
        "id": "BvNF7teQQjYk",
        "outputId": "7d0597de-ea8d-40ea-91e4-2dc428e32a69"
      },
      "source": [
        "# calculate root mean squared error\n",
        "trainScore = math.sqrt(mean_squared_error(trainY[0], trainPredict[:,0]))\n",
        "print(\"Root mean square error = \",trainScore,\" RMSE\")\n",
        "testScore = math.sqrt(mean_squared_error(testY[0], testPredict[:,0]))\n",
        "print(\"Root mean square error = \",testScore,\" RMSE\")"
      ],
      "execution_count": null,
      "outputs": [
        {
          "output_type": "stream",
          "name": "stdout",
          "text": [
            "Root mean square error =  740.0626994572888  RMSE\n",
            "Root mean square error =  587.2927502370709  RMSE\n"
          ]
        }
      ]
    },
    {
      "cell_type": "markdown",
      "metadata": {
        "id": "Wj5hVdffQpY9"
      },
      "source": [
        "Step 6 : Creating a Hybrid model for Numerical and textual Analysis"
      ]
    },
    {
      "cell_type": "code",
      "metadata": {
        "colab": {
          "base_uri": "https://localhost:8080/",
          "height": 417
        },
        "id": "F7aqdCbjQmvW",
        "outputId": "5edb9ed9-3778-43dd-9211-1f70223e2678"
      },
      "source": [
        "#Text Analysis\n",
        "\n",
        "columns = ['Date','Category','News']\n",
        "news = pd.read_csv('task4.csv', names = columns)\n",
        "news"
      ],
      "execution_count": null,
      "outputs": [
        {
          "output_type": "execute_result",
          "data": {
            "text/html": [
              "<div>\n",
              "<style scoped>\n",
              "    .dataframe tbody tr th:only-of-type {\n",
              "        vertical-align: middle;\n",
              "    }\n",
              "\n",
              "    .dataframe tbody tr th {\n",
              "        vertical-align: top;\n",
              "    }\n",
              "\n",
              "    .dataframe thead th {\n",
              "        text-align: right;\n",
              "    }\n",
              "</style>\n",
              "<table border=\"1\" class=\"dataframe\">\n",
              "  <thead>\n",
              "    <tr style=\"text-align: right;\">\n",
              "      <th></th>\n",
              "      <th></th>\n",
              "      <th></th>\n",
              "      <th></th>\n",
              "      <th>Date</th>\n",
              "      <th>Category</th>\n",
              "      <th>News</th>\n",
              "    </tr>\n",
              "  </thead>\n",
              "  <tbody>\n",
              "    <tr>\n",
              "      <th>Date</th>\n",
              "      <th>Open</th>\n",
              "      <th>High</th>\n",
              "      <th>Low</th>\n",
              "      <td>Close</td>\n",
              "      <td>Adj Close</td>\n",
              "      <td>Volume</td>\n",
              "    </tr>\n",
              "    <tr>\n",
              "      <th>2019-10-16</th>\n",
              "      <th>38637.050781</th>\n",
              "      <th>38666.378906</th>\n",
              "      <th>38416.671875</th>\n",
              "      <td>38598.988281</td>\n",
              "      <td>38598.988281</td>\n",
              "      <td>27500</td>\n",
              "    </tr>\n",
              "    <tr>\n",
              "      <th>2019-10-17</th>\n",
              "      <th>38647.441406</th>\n",
              "      <th>39104.691406</th>\n",
              "      <th>38557.429688</th>\n",
              "      <td>39052.058594</td>\n",
              "      <td>39052.058594</td>\n",
              "      <td>47100</td>\n",
              "    </tr>\n",
              "    <tr>\n",
              "      <th>2019-10-18</th>\n",
              "      <th>39087.828125</th>\n",
              "      <th>39361.058594</th>\n",
              "      <th>38963.601563</th>\n",
              "      <td>39298.378906</td>\n",
              "      <td>39298.378906</td>\n",
              "      <td>42400</td>\n",
              "    </tr>\n",
              "    <tr>\n",
              "      <th>2019-10-22</th>\n",
              "      <th>39233.398438</th>\n",
              "      <th>39426.468750</th>\n",
              "      <th>38924.851563</th>\n",
              "      <td>38963.839844</td>\n",
              "      <td>38963.839844</td>\n",
              "      <td>54500</td>\n",
              "    </tr>\n",
              "    <tr>\n",
              "      <th>...</th>\n",
              "      <th>...</th>\n",
              "      <th>...</th>\n",
              "      <th>...</th>\n",
              "      <td>...</td>\n",
              "      <td>...</td>\n",
              "      <td>...</td>\n",
              "    </tr>\n",
              "    <tr>\n",
              "      <th>2020-10-12</th>\n",
              "      <th>40716.949219</th>\n",
              "      <th>40905.488281</th>\n",
              "      <th>40387.398438</th>\n",
              "      <td>40593.800781</td>\n",
              "      <td>40593.800781</td>\n",
              "      <td>17600</td>\n",
              "    </tr>\n",
              "    <tr>\n",
              "      <th>2020-10-13</th>\n",
              "      <th>40592.539063</th>\n",
              "      <th>40786.820313</th>\n",
              "      <th>40461.968750</th>\n",
              "      <td>40625.511719</td>\n",
              "      <td>40625.511719</td>\n",
              "      <td>11000</td>\n",
              "    </tr>\n",
              "    <tr>\n",
              "      <th>2020-10-14</th>\n",
              "      <th>40623.191406</th>\n",
              "      <th>40880.250000</th>\n",
              "      <th>40279.550781</th>\n",
              "      <td>40794.738281</td>\n",
              "      <td>40794.738281</td>\n",
              "      <td>15000</td>\n",
              "    </tr>\n",
              "    <tr>\n",
              "      <th>2020-10-15</th>\n",
              "      <th>41048.050781</th>\n",
              "      <th>41048.050781</th>\n",
              "      <th>39667.468750</th>\n",
              "      <td>39728.410156</td>\n",
              "      <td>39728.410156</td>\n",
              "      <td>30400</td>\n",
              "    </tr>\n",
              "    <tr>\n",
              "      <th>2020-10-16</th>\n",
              "      <th>39936.609375</th>\n",
              "      <th>40125.710938</th>\n",
              "      <th>39699.421875</th>\n",
              "      <td>39982.980469</td>\n",
              "      <td>39982.980469</td>\n",
              "      <td>0</td>\n",
              "    </tr>\n",
              "  </tbody>\n",
              "</table>\n",
              "<p>252 rows × 3 columns</p>\n",
              "</div>"
            ],
            "text/plain": [
              "                                                           Date  ...    News\n",
              "Date       Open         High         Low                  Close  ...  Volume\n",
              "2019-10-16 38637.050781 38666.378906 38416.671875  38598.988281  ...   27500\n",
              "2019-10-17 38647.441406 39104.691406 38557.429688  39052.058594  ...   47100\n",
              "2019-10-18 39087.828125 39361.058594 38963.601563  39298.378906  ...   42400\n",
              "2019-10-22 39233.398438 39426.468750 38924.851563  38963.839844  ...   54500\n",
              "...                                                         ...  ...     ...\n",
              "2020-10-12 40716.949219 40905.488281 40387.398438  40593.800781  ...   17600\n",
              "2020-10-13 40592.539063 40786.820313 40461.968750  40625.511719  ...   11000\n",
              "2020-10-14 40623.191406 40880.250000 40279.550781  40794.738281  ...   15000\n",
              "2020-10-15 41048.050781 41048.050781 39667.468750  39728.410156  ...   30400\n",
              "2020-10-16 39936.609375 40125.710938 39699.421875  39982.980469  ...       0\n",
              "\n",
              "[252 rows x 3 columns]"
            ]
          },
          "metadata": {},
          "execution_count": 18
        }
      ]
    },
    {
      "cell_type": "markdown",
      "metadata": {
        "id": "b4ToLIOvQzmo"
      },
      "source": [
        "\n",
        "Step 7 : Text preprocessing"
      ]
    },
    {
      "cell_type": "code",
      "metadata": {
        "colab": {
          "base_uri": "https://localhost:8080/"
        },
        "id": "xUUg27-HQsPO",
        "outputId": "464dfe91-9e36-4721-bc28-ac31664efa29"
      },
      "source": [
        "\n",
        "news.drop('Category', axis = 1, inplace=True)\n",
        "news.info()"
      ],
      "execution_count": null,
      "outputs": [
        {
          "output_type": "stream",
          "name": "stdout",
          "text": [
            "<class 'pandas.core.frame.DataFrame'>\n",
            "MultiIndex: 252 entries, ('Date', 'Open', 'High', 'Low') to ('2020-10-16', '39936.609375', '40125.710938', '39699.421875')\n",
            "Data columns (total 2 columns):\n",
            " #   Column  Non-Null Count  Dtype \n",
            "---  ------  --------------  ----- \n",
            " 0   Date    250 non-null    object\n",
            " 1   News    250 non-null    object\n",
            "dtypes: object(2)\n",
            "memory usage: 63.8+ KB\n"
          ]
        }
      ]
    },
    {
      "cell_type": "code",
      "metadata": {
        "id": "OlGYUSBASCSP"
      },
      "source": [
        ""
      ],
      "execution_count": null,
      "outputs": []
    }
  ]
}